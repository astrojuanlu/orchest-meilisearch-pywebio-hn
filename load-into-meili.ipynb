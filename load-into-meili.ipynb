{
 "cells": [
  {
   "cell_type": "code",
   "execution_count": 1,
   "metadata": {
    "execution": {
     "iopub.execute_input": "2021-12-21T16:40:50.807181Z",
     "iopub.status.busy": "2021-12-21T16:40:50.806554Z",
     "iopub.status.idle": "2021-12-21T16:40:50.978648Z",
     "shell.execute_reply": "2021-12-21T16:40:50.979348Z"
    },
    "tags": []
   },
   "outputs": [],
   "source": [
    "import orchest\n",
    "import meilisearch"
   ]
  },
  {
   "cell_type": "code",
   "execution_count": 2,
   "metadata": {
    "execution": {
     "iopub.execute_input": "2021-12-21T16:40:51.019842Z",
     "iopub.status.busy": "2021-12-21T16:40:51.019219Z",
     "iopub.status.idle": "2021-12-21T16:40:51.022605Z",
     "shell.execute_reply": "2021-12-21T16:40:51.022107Z"
    },
    "tags": []
   },
   "outputs": [],
   "source": [
    "comments = orchest.get_inputs()[\"comments\"]"
   ]
  },
  {
   "cell_type": "code",
   "execution_count": 3,
   "metadata": {
    "execution": {
     "iopub.execute_input": "2021-12-21T16:40:51.063748Z",
     "iopub.status.busy": "2021-12-21T16:40:51.060796Z",
     "iopub.status.idle": "2021-12-21T16:40:51.067033Z",
     "shell.execute_reply": "2021-12-21T16:40:51.067551Z"
    },
    "tags": []
   },
   "outputs": [],
   "source": [
    "meili_service = orchest.get_service(\"meilisearch\")"
   ]
  },
  {
   "cell_type": "code",
   "execution_count": 4,
   "metadata": {
    "execution": {
     "iopub.execute_input": "2021-12-21T16:40:51.101857Z",
     "iopub.status.busy": "2021-12-21T16:40:51.101177Z",
     "iopub.status.idle": "2021-12-21T16:40:51.103140Z",
     "shell.execute_reply": "2021-12-21T16:40:51.103634Z"
    },
    "tags": []
   },
   "outputs": [],
   "source": [
    "meili_connection_string = f\"http://{meili_service['internal_hostname']}:{meili_service['ports'][0]}\""
   ]
  },
  {
   "cell_type": "code",
   "execution_count": 5,
   "metadata": {
    "execution": {
     "iopub.execute_input": "2021-12-21T16:40:51.143547Z",
     "iopub.status.busy": "2021-12-21T16:40:51.142221Z",
     "iopub.status.idle": "2021-12-21T16:40:51.148601Z",
     "shell.execute_reply": "2021-12-21T16:40:51.149102Z"
    },
    "tags": []
   },
   "outputs": [
    {
     "data": {
      "text/plain": [
       "'http://service-meilisearch-0dee78ff-f41653f6:7700'"
      ]
     },
     "execution_count": 5,
     "metadata": {},
     "output_type": "execute_result"
    }
   ],
   "source": [
    "meili_connection_string"
   ]
  },
  {
   "cell_type": "code",
   "execution_count": 6,
   "metadata": {
    "execution": {
     "iopub.execute_input": "2021-12-21T16:40:51.201849Z",
     "iopub.status.busy": "2021-12-21T16:40:51.200889Z",
     "iopub.status.idle": "2021-12-21T16:40:51.203274Z",
     "shell.execute_reply": "2021-12-21T16:40:51.202421Z"
    },
    "tags": []
   },
   "outputs": [],
   "source": [
    "comments_list = [{**comment, \"id\": id} for id, comment in comments.items()]"
   ]
  },
  {
   "cell_type": "code",
   "execution_count": 7,
   "metadata": {
    "execution": {
     "iopub.execute_input": "2021-12-21T16:40:51.251734Z",
     "iopub.status.busy": "2021-12-21T16:40:51.251032Z",
     "iopub.status.idle": "2021-12-21T16:40:51.252821Z",
     "shell.execute_reply": "2021-12-21T16:40:51.252299Z"
    },
    "tags": []
   },
   "outputs": [],
   "source": [
    "client = meilisearch.Client(meili_connection_string)"
   ]
  },
  {
   "cell_type": "code",
   "execution_count": 8,
   "metadata": {
    "execution": {
     "iopub.execute_input": "2021-12-21T16:40:51.290282Z",
     "iopub.status.busy": "2021-12-21T16:40:51.289484Z",
     "iopub.status.idle": "2021-12-21T16:40:51.294897Z",
     "shell.execute_reply": "2021-12-21T16:40:51.295438Z"
    },
    "tags": []
   },
   "outputs": [
    {
     "name": "stdout",
     "output_type": "stream",
     "text": [
      "Clearing all documents...\n"
     ]
    }
   ],
   "source": [
    "if orchest.get_step_param(\"clear_db\"):\n",
    "    print(\"Clearing all documents...\")\n",
    "    try:\n",
    "        client.index('comments').delete_all_documents()\n",
    "    except:\n",
    "        # If 'comments' index doesn't exist the above deletion will throw.\n",
    "        pass"
   ]
  },
  {
   "cell_type": "code",
   "execution_count": 9,
   "metadata": {
    "execution": {
     "iopub.execute_input": "2021-12-21T16:40:51.331532Z",
     "iopub.status.busy": "2021-12-21T16:40:51.330381Z",
     "iopub.status.idle": "2021-12-21T16:40:51.398402Z",
     "shell.execute_reply": "2021-12-21T16:40:51.398905Z"
    },
    "tags": []
   },
   "outputs": [
    {
     "data": {
      "text/plain": [
       "{'updateId': 0}"
      ]
     },
     "execution_count": 9,
     "metadata": {},
     "output_type": "execute_result"
    }
   ],
   "source": [
    "client.index('comments').add_documents(comments_list)"
   ]
  },
  {
   "cell_type": "code",
   "execution_count": 10,
   "metadata": {
    "execution": {
     "iopub.execute_input": "2021-12-21T16:40:51.454621Z",
     "iopub.status.busy": "2021-12-21T16:40:51.454027Z",
     "iopub.status.idle": "2021-12-21T16:40:51.462586Z",
     "shell.execute_reply": "2021-12-21T16:40:51.463091Z"
    },
    "tags": []
   },
   "outputs": [
    {
     "data": {
      "text/plain": [
       "{'numberOfDocuments': 10,\n",
       " 'isIndexing': False,\n",
       " 'fieldDistribution': {'body': 10,\n",
       "  'date': 10,\n",
       "  'id': 10,\n",
       "  'permalink': 10,\n",
       "  'username': 10}}"
      ]
     },
     "execution_count": 10,
     "metadata": {},
     "output_type": "execute_result"
    }
   ],
   "source": [
    "client.index('comments').get_stats()"
   ]
  },
  {
   "cell_type": "code",
   "execution_count": 11,
   "metadata": {
    "execution": {
     "iopub.execute_input": "2021-12-21T16:40:51.502883Z",
     "iopub.status.busy": "2021-12-21T16:40:51.502151Z",
     "iopub.status.idle": "2021-12-21T16:40:51.524018Z",
     "shell.execute_reply": "2021-12-21T16:40:51.522966Z"
    },
    "tags": []
   },
   "outputs": [
    {
     "data": {
      "text/plain": [
       "{'updateId': 1}"
      ]
     },
     "execution_count": 11,
     "metadata": {},
     "output_type": "execute_result"
    }
   ],
   "source": [
    "client.index('comments').update_settings({\n",
    "  'searchableAttributes': [\n",
    "      'username',\n",
    "      'body',\n",
    "]})"
   ]
  },
  {
   "cell_type": "code",
   "execution_count": null,
   "metadata": {},
   "outputs": [],
   "source": []
  }
 ],
 "metadata": {
  "kernelspec": {
   "display_name": "Python 3",
   "language": "python",
   "name": "orchest-kernel-b0bd58a5-5b71-4078-879c-57fcaa540579"
  },
  "language_info": {
   "codemirror_mode": {
    "name": "ipython",
    "version": 3
   },
   "file_extension": ".py",
   "mimetype": "text/x-python",
   "name": "python",
   "nbconvert_exporter": "python",
   "pygments_lexer": "ipython3",
   "version": "3.7.6"
  }
 },
 "nbformat": 4,
 "nbformat_minor": 4
}
