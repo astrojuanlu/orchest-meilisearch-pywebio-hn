{
 "cells": [
  {
   "cell_type": "code",
   "execution_count": 1,
   "metadata": {
    "execution": {
     "iopub.execute_input": "2021-12-21T16:38:01.796990Z",
     "iopub.status.busy": "2021-12-21T16:38:01.796326Z",
     "iopub.status.idle": "2021-12-21T16:38:01.970980Z",
     "shell.execute_reply": "2021-12-21T16:38:01.971856Z"
    },
    "tags": []
   },
   "outputs": [],
   "source": [
    "import orchest\n",
    "import meilisearch"
   ]
  },
  {
   "cell_type": "code",
   "execution_count": 2,
   "metadata": {
    "execution": {
     "iopub.execute_input": "2021-12-21T16:38:02.006404Z",
     "iopub.status.busy": "2021-12-21T16:38:02.005780Z",
     "iopub.status.idle": "2021-12-21T16:38:02.008656Z",
     "shell.execute_reply": "2021-12-21T16:38:02.008132Z"
    },
    "tags": []
   },
   "outputs": [],
   "source": [
    "comments = orchest.get_inputs()[\"comments\"]"
   ]
  },
  {
   "cell_type": "code",
   "execution_count": 3,
   "metadata": {
    "execution": {
     "iopub.execute_input": "2021-12-21T16:38:02.041824Z",
     "iopub.status.busy": "2021-12-21T16:38:02.041158Z",
     "iopub.status.idle": "2021-12-21T16:38:02.054433Z",
     "shell.execute_reply": "2021-12-21T16:38:02.053880Z"
    },
    "tags": []
   },
   "outputs": [],
   "source": [
    "meili_service = orchest.get_service(\"meilisearch\")"
   ]
  },
  {
   "cell_type": "code",
   "execution_count": 4,
   "metadata": {
    "execution": {
     "iopub.execute_input": "2021-12-21T16:38:02.094949Z",
     "iopub.status.busy": "2021-12-21T16:38:02.094299Z",
     "iopub.status.idle": "2021-12-21T16:38:02.096442Z",
     "shell.execute_reply": "2021-12-21T16:38:02.096976Z"
    },
    "tags": []
   },
   "outputs": [],
   "source": [
    "meili_connection_string = f\"http://{meili_service['internal_hostname']}:{meili_service['ports'][0]}\""
   ]
  },
  {
   "cell_type": "code",
   "execution_count": 5,
   "metadata": {
    "execution": {
     "iopub.execute_input": "2021-12-21T16:38:02.135821Z",
     "iopub.status.busy": "2021-12-21T16:38:02.135208Z",
     "iopub.status.idle": "2021-12-21T16:38:02.140753Z",
     "shell.execute_reply": "2021-12-21T16:38:02.141247Z"
    },
    "tags": []
   },
   "outputs": [
    {
     "data": {
      "text/plain": [
       "'http://service-meilisearch-0dee78ff-f41653f6:7700'"
      ]
     },
     "execution_count": 5,
     "metadata": {},
     "output_type": "execute_result"
    }
   ],
   "source": [
    "meili_connection_string"
   ]
  },
  {
   "cell_type": "code",
   "execution_count": 6,
   "metadata": {
    "execution": {
     "iopub.execute_input": "2021-12-21T16:38:02.174652Z",
     "iopub.status.busy": "2021-12-21T16:38:02.174021Z",
     "iopub.status.idle": "2021-12-21T16:38:02.176353Z",
     "shell.execute_reply": "2021-12-21T16:38:02.175752Z"
    },
    "tags": []
   },
   "outputs": [],
   "source": [
    "comments_list = [{**comment, \"id\": id} for id, comment in comments.items()]"
   ]
  },
  {
   "cell_type": "code",
   "execution_count": 7,
   "metadata": {
    "execution": {
     "iopub.execute_input": "2021-12-21T16:38:02.212449Z",
     "iopub.status.busy": "2021-12-21T16:38:02.210875Z",
     "iopub.status.idle": "2021-12-21T16:38:02.214960Z",
     "shell.execute_reply": "2021-12-21T16:38:02.214436Z"
    },
    "tags": []
   },
   "outputs": [],
   "source": [
    "client = meilisearch.Client(meili_connection_string)"
   ]
  },
  {
   "cell_type": "code",
   "execution_count": 8,
   "metadata": {
    "execution": {
     "iopub.execute_input": "2021-12-21T16:22:47.566757Z",
     "iopub.status.busy": "2021-12-21T16:22:47.566144Z",
     "iopub.status.idle": "2021-12-21T16:22:47.573828Z",
     "shell.execute_reply": "2021-12-21T16:22:47.574360Z"
    }
   },
   "outputs": [
    {
     "name": "stdout",
     "output_type": "stream",
     "text": [
      "Clearing all documents...\n"
     ]
    }
   ],
   "source": [
    "if orchest.get_step_param(\"clear_db\"):\n",
    "    print(\"Clearing all documents...\")\n",
    "    try:\n",
    "        client.index('comments').delete_all_documents()\n",
    "    except:\n",
    "        # If 'comments' index doesn't exist the above deletion will throw.\n",
    "        pass"
   ]
  },
  {
   "cell_type": "code",
   "execution_count": 9,
   "metadata": {
    "execution": {
     "iopub.execute_input": "2021-12-21T16:22:47.606832Z",
     "iopub.status.busy": "2021-12-21T16:22:47.606228Z",
     "iopub.status.idle": "2021-12-21T16:22:47.630811Z",
     "shell.execute_reply": "2021-12-21T16:22:47.631277Z"
    }
   },
   "outputs": [
    {
     "data": {
      "text/plain": [
       "{'updateId': 13}"
      ]
     },
     "execution_count": 9,
     "metadata": {},
     "output_type": "execute_result"
    }
   ],
   "source": [
    "client.index('comments').add_documents(comments_list)"
   ]
  },
  {
   "cell_type": "code",
   "execution_count": 10,
   "metadata": {
    "execution": {
     "iopub.execute_input": "2021-12-21T16:22:47.667042Z",
     "iopub.status.busy": "2021-12-21T16:22:47.666450Z",
     "iopub.status.idle": "2021-12-21T16:22:47.680654Z",
     "shell.execute_reply": "2021-12-21T16:22:47.681594Z"
    },
    "tags": []
   },
   "outputs": [
    {
     "data": {
      "text/plain": [
       "{'numberOfDocuments': 0, 'isIndexing': True, 'fieldDistribution': {}}"
      ]
     },
     "execution_count": 10,
     "metadata": {},
     "output_type": "execute_result"
    }
   ],
   "source": [
    "client.index('comments').get_stats()"
   ]
  },
  {
   "cell_type": "code",
   "execution_count": 11,
   "metadata": {
    "execution": {
     "iopub.execute_input": "2021-12-21T16:22:47.719700Z",
     "iopub.status.busy": "2021-12-21T16:22:47.719098Z",
     "iopub.status.idle": "2021-12-21T16:22:47.735040Z",
     "shell.execute_reply": "2021-12-21T16:22:47.735531Z"
    },
    "tags": []
   },
   "outputs": [
    {
     "data": {
      "text/plain": [
       "{'updateId': 14}"
      ]
     },
     "execution_count": 11,
     "metadata": {},
     "output_type": "execute_result"
    }
   ],
   "source": [
    "client.index('comments').update_settings({\n",
    "  'searchableAttributes': [\n",
    "      'username',\n",
    "      'body',\n",
    "]})"
   ]
  },
  {
   "cell_type": "code",
   "execution_count": null,
   "metadata": {},
   "outputs": [],
   "source": []
  }
 ],
 "metadata": {
  "kernelspec": {
   "display_name": "Python 3",
   "language": "python",
   "name": "orchest-kernel-b0bd58a5-5b71-4078-879c-57fcaa540579"
  },
  "language_info": {
   "codemirror_mode": {
    "name": "ipython",
    "version": 3
   },
   "file_extension": ".py",
   "mimetype": "text/x-python",
   "name": "python",
   "nbconvert_exporter": "python",
   "pygments_lexer": "ipython3",
   "version": "3.7.6"
  }
 },
 "nbformat": 4,
 "nbformat_minor": 4
}
