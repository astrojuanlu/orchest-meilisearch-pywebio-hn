{
 "cells": [
  {
   "cell_type": "code",
   "execution_count": 35,
   "metadata": {
    "tags": []
   },
   "outputs": [],
   "source": [
    "import orchest\n",
    "import meilisearch"
   ]
  },
  {
   "cell_type": "code",
   "execution_count": 36,
   "metadata": {
    "tags": []
   },
   "outputs": [],
   "source": [
    "comments = orchest.get_inputs()[\"comments\"]"
   ]
  },
  {
   "cell_type": "code",
   "execution_count": 3,
   "metadata": {
    "execution": {
     "iopub.execute_input": "2021-12-21T16:22:47.373858Z",
     "iopub.status.busy": "2021-12-21T16:22:47.373219Z",
     "iopub.status.idle": "2021-12-21T16:22:47.383996Z",
     "shell.execute_reply": "2021-12-21T16:22:47.384474Z"
    },
    "tags": []
   },
   "outputs": [],
   "source": [
    "meili_service = orchest.get_service(\"meilisearch\")"
   ]
  },
  {
   "cell_type": "code",
   "execution_count": 4,
   "metadata": {
    "execution": {
     "iopub.execute_input": "2021-12-21T16:22:47.417554Z",
     "iopub.status.busy": "2021-12-21T16:22:47.416847Z",
     "iopub.status.idle": "2021-12-21T16:22:47.418625Z",
     "shell.execute_reply": "2021-12-21T16:22:47.418110Z"
    },
    "tags": []
   },
   "outputs": [],
   "source": [
    "meili_connection_string = f\"http://{meili_service['internal_hostname']}:{meili_service['ports'][0]}\""
   ]
  },
  {
   "cell_type": "code",
   "execution_count": 5,
   "metadata": {
    "execution": {
     "iopub.execute_input": "2021-12-21T16:22:47.455377Z",
     "iopub.status.busy": "2021-12-21T16:22:47.454791Z",
     "iopub.status.idle": "2021-12-21T16:22:47.460174Z",
     "shell.execute_reply": "2021-12-21T16:22:47.460665Z"
    },
    "tags": []
   },
   "outputs": [
    {
     "data": {
      "text/plain": [
       "'http://service-meilisearch-0dee78ff-f41653f6:7700'"
      ]
     },
     "execution_count": 5,
     "metadata": {},
     "output_type": "execute_result"
    }
   ],
   "source": [
    "meili_connection_string"
   ]
  },
  {
   "cell_type": "code",
   "execution_count": 6,
   "metadata": {
    "execution": {
     "iopub.execute_input": "2021-12-21T16:22:47.492025Z",
     "iopub.status.busy": "2021-12-21T16:22:47.490886Z",
     "iopub.status.idle": "2021-12-21T16:22:47.495858Z",
     "shell.execute_reply": "2021-12-21T16:22:47.496998Z"
    },
    "tags": []
   },
   "outputs": [],
   "source": [
    "comments_list = [{**comment, \"id\": id} for id, comment in comments.items()]"
   ]
  },
  {
   "cell_type": "code",
   "execution_count": 7,
   "metadata": {
    "execution": {
     "iopub.execute_input": "2021-12-21T16:22:47.529547Z",
     "iopub.status.busy": "2021-12-21T16:22:47.528905Z",
     "iopub.status.idle": "2021-12-21T16:22:47.532774Z",
     "shell.execute_reply": "2021-12-21T16:22:47.532264Z"
    },
    "tags": []
   },
   "outputs": [],
   "source": [
    "client = meilisearch.Client(meili_connection_string)"
   ]
  },
  {
   "cell_type": "code",
   "execution_count": 8,
   "metadata": {
    "execution": {
     "iopub.execute_input": "2021-12-21T16:22:47.566757Z",
     "iopub.status.busy": "2021-12-21T16:22:47.566144Z",
     "iopub.status.idle": "2021-12-21T16:22:47.573828Z",
     "shell.execute_reply": "2021-12-21T16:22:47.574360Z"
    }
   },
   "outputs": [
    {
     "name": "stdout",
     "output_type": "stream",
     "text": [
      "Clearing all documents...\n"
     ]
    }
   ],
   "source": [
    "if orchest.get_step_param(\"clear_db\"):\n",
    "    print(\"Clearing all documents...\")\n",
    "    client.index('comments').delete_all_documents()"
   ]
  },
  {
   "cell_type": "code",
   "execution_count": 9,
   "metadata": {
    "execution": {
     "iopub.execute_input": "2021-12-21T16:22:47.606832Z",
     "iopub.status.busy": "2021-12-21T16:22:47.606228Z",
     "iopub.status.idle": "2021-12-21T16:22:47.630811Z",
     "shell.execute_reply": "2021-12-21T16:22:47.631277Z"
    }
   },
   "outputs": [
    {
     "data": {
      "text/plain": [
       "{'updateId': 13}"
      ]
     },
     "execution_count": 9,
     "metadata": {},
     "output_type": "execute_result"
    }
   ],
   "source": [
    "client.index('comments').add_documents(comments_list)"
   ]
  },
  {
   "cell_type": "code",
   "execution_count": 10,
   "metadata": {
    "execution": {
     "iopub.execute_input": "2021-12-21T16:22:47.667042Z",
     "iopub.status.busy": "2021-12-21T16:22:47.666450Z",
     "iopub.status.idle": "2021-12-21T16:22:47.680654Z",
     "shell.execute_reply": "2021-12-21T16:22:47.681594Z"
    },
    "tags": []
   },
   "outputs": [
    {
     "data": {
      "text/plain": [
       "{'numberOfDocuments': 0, 'isIndexing': True, 'fieldDistribution': {}}"
      ]
     },
     "execution_count": 10,
     "metadata": {},
     "output_type": "execute_result"
    }
   ],
   "source": [
    "client.index('comments').get_stats()"
   ]
  },
  {
   "cell_type": "code",
   "execution_count": 11,
   "metadata": {
    "execution": {
     "iopub.execute_input": "2021-12-21T16:22:47.719700Z",
     "iopub.status.busy": "2021-12-21T16:22:47.719098Z",
     "iopub.status.idle": "2021-12-21T16:22:47.735040Z",
     "shell.execute_reply": "2021-12-21T16:22:47.735531Z"
    },
    "tags": []
   },
   "outputs": [
    {
     "data": {
      "text/plain": [
       "{'updateId': 14}"
      ]
     },
     "execution_count": 11,
     "metadata": {},
     "output_type": "execute_result"
    }
   ],
   "source": [
    "client.index('comments').update_settings({\n",
    "  'searchableAttributes': [\n",
    "      'username',\n",
    "      'body',\n",
    "]})"
   ]
  },
  {
   "cell_type": "code",
   "execution_count": null,
   "metadata": {},
   "outputs": [],
   "source": []
  }
 ],
 "metadata": {
  "kernelspec": {
   "display_name": "Python 3",
   "language": "python",
   "name": "orchest-kernel-b0bd58a5-5b71-4078-879c-57fcaa540579"
  },
  "language_info": {
   "codemirror_mode": {
    "name": "ipython",
    "version": 3
   },
   "file_extension": ".py",
   "mimetype": "text/x-python",
   "name": "python",
   "nbconvert_exporter": "python",
   "pygments_lexer": "ipython3",
   "version": "3.7.6"
  }
 },
 "nbformat": 4,
 "nbformat_minor": 4
}
